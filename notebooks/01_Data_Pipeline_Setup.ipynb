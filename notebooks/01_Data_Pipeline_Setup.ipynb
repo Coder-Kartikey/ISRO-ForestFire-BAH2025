{
  "nbformat": 4,
  "nbformat_minor": 0,
  "metadata": {
    "colab": {
      "provenance": [],
      "authorship_tag": "ABX9TyOJ9jzetdbVPIM/pLP/8YLf",
      "include_colab_link": true
    },
    "kernelspec": {
      "name": "python3",
      "display_name": "Python 3"
    },
    "language_info": {
      "name": "python"
    }
  },
  "cells": [
    {
      "cell_type": "markdown",
      "metadata": {
        "id": "view-in-github",
        "colab_type": "text"
      },
      "source": [
        "<a href=\"https://colab.research.google.com/github/Coder-Kartikey/ISRO-ForestFire-BAH2025/blob/main/notebooks/01_Data_Pipeline_Setup.ipynb\" target=\"_parent\"><img src=\"https://colab.research.google.com/assets/colab-badge.svg\" alt=\"Open In Colab\"/></a>"
      ]
    },
    {
      "cell_type": "markdown",
      "source": [
        "# ISRO Bharatiya Antariksh Hackathon 2025 - Forest Fire Spread Detection\n",
        "This notebook will guide through data acquisition and preprocessing for Uttarakhand region."
      ],
      "metadata": {
        "id": "Ar9_dgvuuylw"
      }
    },
    {
      "cell_type": "code",
      "source": [
        "!pip install rasterio geopandas earthengine-api folium"
      ],
      "metadata": {
        "id": "qHKDK5kJurDj"
      },
      "execution_count": null,
      "outputs": []
    }
  ]
}